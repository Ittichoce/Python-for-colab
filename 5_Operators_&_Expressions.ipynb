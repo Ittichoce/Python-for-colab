{
  "nbformat": 4,
  "nbformat_minor": 0,
  "metadata": {
    "colab": {
      "name": "5. Operators & Expressions.ipynb",
      "provenance": [],
      "collapsed_sections": [],
      "authorship_tag": "ABX9TyOJyAbhD1IIZMfAQs1pqiyc",
      "include_colab_link": true
    },
    "kernelspec": {
      "name": "python3",
      "display_name": "Python 3"
    },
    "language_info": {
      "name": "python"
    }
  },
  "cells": [
    {
      "cell_type": "markdown",
      "metadata": {
        "id": "view-in-github",
        "colab_type": "text"
      },
      "source": [
        "<a href=\"https://colab.research.google.com/github/Ittichoce/Python-for-colab/blob/my-branch-1/5_Operators_%26_Expressions.ipynb\" target=\"_parent\"><img src=\"https://colab.research.google.com/assets/colab-badge.svg\" alt=\"Open In Colab\"/></a>"
      ]
    },
    {
      "cell_type": "markdown",
      "source": [
        "# **Operators**\n",
        "Operators platform *operations* on values (via literals or in variables)."
      ],
      "metadata": {
        "id": "gDyAgeXmVPNv"
      }
    },
    {
      "cell_type": "markdown",
      "source": [
        "# **Arithmetic operators**\n",
        "\n",
        "**Additon, Substraction, Mutiplication, Division**"
      ],
      "metadata": {
        "id": "DoTND5WcYCt4"
      }
    },
    {
      "cell_type": "code",
      "execution_count": null,
      "metadata": {
        "colab": {
          "base_uri": "https://localhost:8080/"
        },
        "id": "S64CygluSqtL",
        "outputId": "48a8ba3f-1b0f-4a22-acb6-6eb97330bb68"
      },
      "outputs": [
        {
          "output_type": "stream",
          "name": "stdout",
          "text": [
            "25\n",
            "15\n",
            "100\n",
            "4.0\n"
          ]
        }
      ],
      "source": [
        "a = 20 \n",
        "b = 5 \n",
        "print(a + b) #Addition\n",
        "print(a - b) #Substraction\n",
        "print(a * b) #Multiplication\n",
        "print(a / b) #Division\n"
      ]
    },
    {
      "cell_type": "markdown",
      "source": [
        "## Unary Minus\n",
        "A unary minus *inverses the polarity* of the numeric operated. "
      ],
      "metadata": {
        "id": "H_m-jxYFYNa5"
      }
    },
    {
      "cell_type": "code",
      "source": [
        "a = 2 \n",
        "print(-a) \n",
        "b = -5 \n",
        "print(-b)"
      ],
      "metadata": {
        "colab": {
          "base_uri": "https://localhost:8080/"
        },
        "id": "efcQG-dPYPNC",
        "outputId": "c514d888-855e-4c04-d4ab-a129968ffb69"
      },
      "execution_count": null,
      "outputs": [
        {
          "output_type": "stream",
          "name": "stdout",
          "text": [
            "-2\n",
            "5\n"
          ]
        }
      ]
    },
    {
      "cell_type": "markdown",
      "source": [
        "## Modulus\n",
        "A modules (`a % b` reads as \"a modulo b\") find the *remainder* resultiing from dividing the left operand (`a`) with the right operated (`b`)\n"
      ],
      "metadata": {
        "id": "DPd6VytwZIUx"
      }
    },
    {
      "cell_type": "code",
      "source": [
        "x = 25 \n",
        "print(x % 4) # Since 25 = 4 * 6 + 1\n",
        "print(x % 5) # Since 25 = 5 * 5 + 0 \n",
        "print(x % 7) # Since 25 = 7 * 3 + 4"
      ],
      "metadata": {
        "id": "KL4b9zPfZJw5",
        "colab": {
          "base_uri": "https://localhost:8080/"
        },
        "outputId": "9c32ea75-7b5b-4458-ba1b-261e3c3edea7"
      },
      "execution_count": null,
      "outputs": [
        {
          "output_type": "stream",
          "name": "stdout",
          "text": [
            "1\n",
            "0\n",
            "4\n"
          ]
        }
      ]
    },
    {
      "cell_type": "markdown",
      "source": [
        "We cannot *divide or modulo with 0*."
      ],
      "metadata": {
        "id": "QHizeef2ZNmJ"
      }
    },
    {
      "cell_type": "code",
      "source": [
        "#print(2 / 0)\n",
        "#print(2 % 0)"
      ],
      "metadata": {
        "id": "5NWZYucqZxh1"
      },
      "execution_count": null,
      "outputs": []
    },
    {
      "cell_type": "markdown",
      "source": [
        "## Exponentiation \n",
        "An exponentiation (`a ** b`) finds the value of the left operand (`a`) *raised to the power of * the value of the right operated (`b`).\n"
      ],
      "metadata": {
        "id": "J5P57SJTa6sk"
      }
    },
    {
      "cell_type": "code",
      "source": [
        "print(2 ** 3) \n",
        "print(5 ** 4)\n",
        "print(99 ** 0) # Since any numbers raised to the power of 0 is 1\n",
        "print(2 ** -1) # Since it is 1 / 2 "
      ],
      "metadata": {
        "colab": {
          "base_uri": "https://localhost:8080/"
        },
        "id": "DMIx2fiqa7Xp",
        "outputId": "b39160ad-3c3a-405b-c2dd-04bcd780426b"
      },
      "execution_count": null,
      "outputs": [
        {
          "output_type": "stream",
          "name": "stdout",
          "text": [
            "8\n",
            "625\n",
            "1\n",
            "0.5\n"
          ]
        }
      ]
    },
    {
      "cell_type": "markdown",
      "source": [
        "## Floor Division \n",
        "A floor division (`//`) is a *division* that *rounds* the result *down* to the *nearest integer* (the next smaller integer).\n"
      ],
      "metadata": {
        "id": "kQtmQd5Jb9SA"
      }
    },
    {
      "cell_type": "code",
      "source": [
        "print(32 / 3)\n",
        "print(32 // 3)\n",
        "print(-32 // 3)\n",
        "print(-32 // 3)"
      ],
      "metadata": {
        "colab": {
          "base_uri": "https://localhost:8080/"
        },
        "id": "59PrB7lRcAVQ",
        "outputId": "d8e3c0dc-c249-43f1-cf65-971a8aa5e3ff"
      },
      "execution_count": null,
      "outputs": [
        {
          "output_type": "stream",
          "name": "stdout",
          "text": [
            "10.666666666666666\n",
            "10\n",
            "-11\n",
            "-11\n"
          ]
        }
      ]
    },
    {
      "cell_type": "markdown",
      "source": [
        "---"
      ],
      "metadata": {
        "id": "K49Snhl2dvOA"
      }
    },
    {
      "cell_type": "markdown",
      "source": [
        "# **Assignment Operators** \n",
        "An *assignment operator* assigns a value to a variable. "
      ],
      "metadata": {
        "id": "m6FPMuOTdgVi"
      }
    },
    {
      "cell_type": "markdown",
      "source": [
        "\n",
        "## Simple assignment operator \n",
        "We are already famillar with the (simple) assignment operator. "
      ],
      "metadata": {
        "id": "yAEwWtXSdnTq"
      }
    },
    {
      "cell_type": "code",
      "source": [
        "a = 3 \n",
        "print(a)\n",
        "b = 4 \n",
        "a = b + 1 \n",
        "print(a) "
      ],
      "metadata": {
        "colab": {
          "base_uri": "https://localhost:8080/"
        },
        "id": "bPoG_ngvdi7o",
        "outputId": "4de8540a-0b89-4945-d1a7-03ed7e4c1a1f"
      },
      "execution_count": null,
      "outputs": [
        {
          "output_type": "stream",
          "name": "stdout",
          "text": [
            "3\n",
            "5\n"
          ]
        }
      ]
    },
    {
      "cell_type": "markdown",
      "source": [
        "## Compound assignment operator \n",
        "In many circumstances, we might want to *apply an operator* on a variable and, consequently, *re-assign the resulting value back * to the same variable.\n"
      ],
      "metadata": {
        "id": "U6emk40rd5U3"
      }
    },
    {
      "cell_type": "code",
      "source": [
        "a = 2 \n",
        "print(a) \n",
        "a = a + 3 \n",
        "print(a) "
      ],
      "metadata": {
        "colab": {
          "base_uri": "https://localhost:8080/"
        },
        "id": "Kzl_zbNhd8YP",
        "outputId": "db10ac9b-cc92-4ce1-dab4-35b37c810def"
      },
      "execution_count": null,
      "outputs": [
        {
          "output_type": "stream",
          "name": "stdout",
          "text": [
            "2\n",
            "5\n"
          ]
        }
      ]
    },
    {
      "cell_type": "code",
      "source": [
        "a = b = c = d = e = f = g = 59 \n",
        "a += 3    # a = a +3 \n",
        "print(a) \n",
        "b -= 5    # b  = b - 5 \n",
        "print(b) \n",
        "c *= 5    # c = c * 5\n",
        "print(c) \n",
        "d /= 5    # d = d / 5\n",
        "print(d) \n",
        "e %= 5    # e = e % 5 \n",
        "print(e) \n",
        "f **= 5   # f  = f ** 5 \n",
        "print(f) \n",
        "g //= 5   # g  = g  // 5\n",
        "print(g)"
      ],
      "metadata": {
        "colab": {
          "base_uri": "https://localhost:8080/"
        },
        "id": "YO32PDESfNBB",
        "outputId": "1d99c06a-51db-427b-e81a-87529f5c7d97"
      },
      "execution_count": null,
      "outputs": [
        {
          "output_type": "stream",
          "name": "stdout",
          "text": [
            "62\n",
            "54\n",
            "295\n",
            "11.8\n",
            "4\n",
            "714924299\n",
            "11\n"
          ]
        }
      ]
    },
    {
      "cell_type": "markdown",
      "source": [
        "# **Comparision Operators**\n",
        "A comparision operator *cpmpares two values.* it returns `True` or `False` "
      ],
      "metadata": {
        "id": "whVQo--Sd_wF"
      }
    },
    {
      "cell_type": "code",
      "source": [
        "a = 20\n",
        "print(a == 20) # is equal to ?\n",
        "print(a != 20) # is NOT equal to  ?\n",
        "print(a > 20) # is greater than ?\n",
        "print(a < 20) # is less than ?\n",
        "print(a >= 20) # is greater than or equal to ?\n",
        "print(a <= 20) # is less tha or equal to ?"
      ],
      "metadata": {
        "colab": {
          "base_uri": "https://localhost:8080/"
        },
        "id": "OctLy-2soiST",
        "outputId": "ba07fa84-de87-42c4-e277-05053ee2384e"
      },
      "execution_count": null,
      "outputs": [
        {
          "output_type": "stream",
          "name": "stdout",
          "text": [
            "True\n",
            "False\n",
            "False\n",
            "False\n",
            "True\n",
            "True\n"
          ]
        }
      ]
    },
    {
      "cell_type": "markdown",
      "source": [
        "# **logical Operators** \n",
        "A logical operator performs a *boolean operation* (AND, OR, NOT)\n",
        "the logical `and` returns `True` if and only if both operands are `True`."
      ],
      "metadata": {
        "id": "Z4KeoNuJoeYT"
      }
    },
    {
      "cell_type": "code",
      "source": [
        "p = True \n",
        "q = False \n",
        "print(p and p) \n",
        "print(p and q) \n",
        "print(q and q) "
      ],
      "metadata": {
        "colab": {
          "base_uri": "https://localhost:8080/"
        },
        "id": "utqmUHRhole7",
        "outputId": "8eec4b33-32b1-4d92-9631-14957b369562"
      },
      "execution_count": null,
      "outputs": [
        {
          "output_type": "stream",
          "name": "stdout",
          "text": [
            "True\n",
            "False\n",
            "False\n"
          ]
        }
      ]
    },
    {
      "cell_type": "markdown",
      "source": [
        "The logical `or` operator returns `False` if and only if both operands are `False` "
      ],
      "metadata": {
        "id": "SIyJwgEmpIka"
      }
    },
    {
      "cell_type": "code",
      "source": [
        "p =  True\n",
        "q = False \n",
        "print(p or p) \n",
        "print(p or q) \n",
        "print(q or q) "
      ],
      "metadata": {
        "colab": {
          "base_uri": "https://localhost:8080/"
        },
        "id": "Pe3M3lDppLoK",
        "outputId": "64bdae9a-8259-4202-a708-842d85328e24"
      },
      "execution_count": null,
      "outputs": [
        {
          "output_type": "stream",
          "name": "stdout",
          "text": [
            "True\n",
            "True\n",
            "False\n"
          ]
        }
      ]
    },
    {
      "cell_type": "markdown",
      "source": [
        "The logical `not` operator *negates* the boolean value of the operated. "
      ],
      "metadata": {
        "id": "pyovlrnspNgS"
      }
    },
    {
      "cell_type": "code",
      "source": [
        "p = True \n",
        "q = False \n",
        "print(not p) \n",
        "print(not q) "
      ],
      "metadata": {
        "colab": {
          "base_uri": "https://localhost:8080/"
        },
        "id": "DcSziTzrqMcL",
        "outputId": "35faf710-e472-419c-a6ec-f686ccc3509b"
      },
      "execution_count": null,
      "outputs": [
        {
          "output_type": "stream",
          "name": "stdout",
          "text": [
            "False\n",
            "True\n"
          ]
        }
      ]
    },
    {
      "cell_type": "markdown",
      "source": [
        "Usually, *comparision operators* are used together with *logical operators.* "
      ],
      "metadata": {
        "id": "d4KBPfA8qOXK"
      }
    },
    {
      "cell_type": "code",
      "source": [
        "username = input(\"Tell me your name: \")\n",
        "print(username == \"John\" or username == \"Jim\" ) "
      ],
      "metadata": {
        "colab": {
          "base_uri": "https://localhost:8080/"
        },
        "id": "yYLaXB_xqRyR",
        "outputId": "a40f8e67-cfc6-49d7-dfec-5591bab0c218"
      },
      "execution_count": null,
      "outputs": [
        {
          "output_type": "stream",
          "name": "stdout",
          "text": [
            "Tell me your name: Sarah\n",
            "False\n"
          ]
        }
      ]
    }
  ]
}