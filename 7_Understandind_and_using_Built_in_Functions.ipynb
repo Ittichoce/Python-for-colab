{
  "nbformat": 4,
  "nbformat_minor": 0,
  "metadata": {
    "colab": {
      "name": "7. Understandind and using Built-in Functions.ipynb",
      "provenance": [],
      "collapsed_sections": [],
      "authorship_tag": "ABX9TyMxd+iyZbRYGSsm2ZiodpNz",
      "include_colab_link": true
    },
    "kernelspec": {
      "name": "python3",
      "display_name": "Python 3"
    },
    "language_info": {
      "name": "python"
    }
  },
  "cells": [
    {
      "cell_type": "markdown",
      "metadata": {
        "id": "view-in-github",
        "colab_type": "text"
      },
      "source": [
        "<a href=\"https://colab.research.google.com/github/Ittichoce/Python-for-colab/blob/my-branch-3/7_Understandind_and_using_Built_in_Functions.ipynb\" target=\"_parent\"><img src=\"https://colab.research.google.com/assets/colab-badge.svg\" alt=\"Open In Colab\"/></a>"
      ]
    },
    {
      "cell_type": "markdown",
      "source": [
        "# **Understandind and using Built-in Functions**"
      ],
      "metadata": {
        "id": "RWqZhky54Nf2"
      }
    },
    {
      "cell_type": "markdown",
      "source": [
        "## **Example** "
      ],
      "metadata": {
        "id": "7hGdfbbt7Sx-"
      }
    },
    {
      "cell_type": "markdown",
      "source": [
        "### abs()"
      ],
      "metadata": {
        "id": "o-n7cCS_712N"
      }
    },
    {
      "cell_type": "code",
      "execution_count": null,
      "metadata": {
        "colab": {
          "base_uri": "https://localhost:8080/"
        },
        "id": "RwsYHCUi4BFq",
        "outputId": "6bee08fa-bdfc-4e70-a9a9-9d957cadbcef"
      },
      "outputs": [
        {
          "output_type": "stream",
          "name": "stdout",
          "text": [
            "5\n",
            "5\n"
          ]
        }
      ],
      "source": [
        "print(abs(5))\n",
        "print(abs(-5))"
      ]
    },
    {
      "cell_type": "code",
      "source": [
        "print(abs(5.0))\n",
        "print(abs(-5.0))\n"
      ],
      "metadata": {
        "colab": {
          "base_uri": "https://localhost:8080/"
        },
        "id": "xKNK3fN_7hxi",
        "outputId": "2a797473-5e18-45fe-c243-cb939db9e335"
      },
      "execution_count": null,
      "outputs": [
        {
          "output_type": "stream",
          "name": "stdout",
          "text": [
            "5.0\n",
            "5.0\n"
          ]
        }
      ]
    },
    {
      "cell_type": "code",
      "source": [
        "print(abs(1+2j))\n",
        "print(abs(3+4j))"
      ],
      "metadata": {
        "colab": {
          "base_uri": "https://localhost:8080/"
        },
        "id": "H5puh10k7sbF",
        "outputId": "e833d072-cee1-406d-c71b-982b89e3bccd"
      },
      "execution_count": null,
      "outputs": [
        {
          "output_type": "stream",
          "name": "stdout",
          "text": [
            "2.23606797749979\n",
            "5.0\n"
          ]
        }
      ]
    },
    {
      "cell_type": "code",
      "source": [
        "print(abs(\"Hello\"))"
      ],
      "metadata": {
        "id": "Zb17-AVJ7tt-"
      },
      "execution_count": null,
      "outputs": []
    },
    {
      "cell_type": "markdown",
      "source": [
        "### bin()"
      ],
      "metadata": {
        "id": "YYjKvrVT74qV"
      }
    },
    {
      "cell_type": "code",
      "source": [
        "x = bin(200)\n",
        "print(x)\n",
        "print(type(x))"
      ],
      "metadata": {
        "colab": {
          "base_uri": "https://localhost:8080/"
        },
        "id": "4HLWk-Gf7-7O",
        "outputId": "aebff08d-0d2d-46ca-c09c-64686fc41e76"
      },
      "execution_count": null,
      "outputs": [
        {
          "output_type": "stream",
          "name": "stdout",
          "text": [
            "0b11001000\n",
            "<class 'str'>\n"
          ]
        }
      ]
    },
    {
      "cell_type": "markdown",
      "source": [
        "### input()"
      ],
      "metadata": {
        "id": "ahYsOIk38g2d"
      }
    },
    {
      "cell_type": "code",
      "source": [
        "name = input(\"Please inset your name :\")\n",
        "print(name)"
      ],
      "metadata": {
        "colab": {
          "base_uri": "https://localhost:8080/"
        },
        "id": "Gr7_rALj8ieG",
        "outputId": "70e906ab-71d6-4637-904e-778c4448e4ea"
      },
      "execution_count": null,
      "outputs": [
        {
          "output_type": "stream",
          "name": "stdout",
          "text": [
            "Please inset your name :Bee\n",
            "Bee\n"
          ]
        }
      ]
    },
    {
      "cell_type": "markdown",
      "source": [
        "### pow()"
      ],
      "metadata": {
        "id": "NoAnIvfu9nYI"
      }
    },
    {
      "cell_type": "code",
      "source": [
        "print(pow(2,5))\n",
        "print(pow(5,2))"
      ],
      "metadata": {
        "colab": {
          "base_uri": "https://localhost:8080/"
        },
        "id": "bOUSnZUr9oAg",
        "outputId": "ac33402b-f745-420b-c62a-65619688e8b8"
      },
      "execution_count": null,
      "outputs": [
        {
          "output_type": "stream",
          "name": "stdout",
          "text": [
            "32\n",
            "25\n"
          ]
        }
      ]
    },
    {
      "cell_type": "code",
      "source": [
        "#print(pow(base = 10, exp = 3)) # pow() takes no keyword arguments\n",
        "#The problen has only in colab notebook"
      ],
      "metadata": {
        "id": "VOPF7PtN9qEU"
      },
      "execution_count": null,
      "outputs": []
    },
    {
      "cell_type": "markdown",
      "source": [
        "### max()"
      ],
      "metadata": {
        "id": "xMpz9P6w_D0N"
      }
    },
    {
      "cell_type": "code",
      "source": [
        "print(max(8,9.5))\n",
        "print(max(10,9.5,-3))\n",
        "print(max(2,3.5,-4,1.0))\n",
        "print(max(\"T\",\"A\",\"X\",\"I\"))"
      ],
      "metadata": {
        "colab": {
          "base_uri": "https://localhost:8080/"
        },
        "id": "EGj6S6X9_nOW",
        "outputId": "6b88ee1b-3707-4967-f077-654f07400913"
      },
      "execution_count": null,
      "outputs": [
        {
          "output_type": "stream",
          "name": "stdout",
          "text": [
            "9.5\n",
            "10\n",
            "3.5\n",
            "X\n"
          ]
        }
      ]
    },
    {
      "cell_type": "markdown",
      "source": [
        "### print()"
      ],
      "metadata": {
        "id": "uo8teMD7_1j1"
      }
    },
    {
      "cell_type": "code",
      "source": [
        "print(\"Hello\",\"world\",\"Now\")\n",
        "print(\"Hello\",\"world\",\"Now\", sep = \"++\")\n"
      ],
      "metadata": {
        "colab": {
          "base_uri": "https://localhost:8080/"
        },
        "id": "ADJBDL_n_3TN",
        "outputId": "3d7d1212-52b1-40b2-dc39-a67cf2b01a6a"
      },
      "execution_count": null,
      "outputs": [
        {
          "output_type": "stream",
          "name": "stdout",
          "text": [
            "Hello world Now\n",
            "Hello++world++Now\n"
          ]
        }
      ]
    },
    {
      "cell_type": "code",
      "source": [
        "print(\"Hello\",\"world\",\"Now\")\n",
        "print(\"Hello\",\"world\",\"Now\", end = \".\")\n",
        "print(\"Hello\",\"Mars\")"
      ],
      "metadata": {
        "colab": {
          "base_uri": "https://localhost:8080/"
        },
        "id": "qv7Z7C6oHstQ",
        "outputId": "8e1fa239-a373-44fd-f7d5-f5b853727957"
      },
      "execution_count": null,
      "outputs": [
        {
          "output_type": "stream",
          "name": "stdout",
          "text": [
            "Hello world Now\n",
            "Hello world Now.Hello Mars\n"
          ]
        }
      ]
    },
    {
      "cell_type": "code",
      "source": [
        "print(\"Hello\",\"World\",\"Now\", sep = \"\\n\")"
      ],
      "metadata": {
        "colab": {
          "base_uri": "https://localhost:8080/"
        },
        "id": "F_C0h8krIBfC",
        "outputId": "68a783f7-36c2-4695-a2f4-cd937a8f5773"
      },
      "execution_count": null,
      "outputs": [
        {
          "output_type": "stream",
          "name": "stdout",
          "text": [
            "Hello\n",
            "World\n",
            "Now\n"
          ]
        }
      ]
    }
  ]
}