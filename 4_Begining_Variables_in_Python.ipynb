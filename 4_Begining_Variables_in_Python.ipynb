{
  "nbformat": 4,
  "nbformat_minor": 0,
  "metadata": {
    "colab": {
      "name": "4. Begining Variables in Python.ipynb",
      "provenance": [],
      "collapsed_sections": [],
      "authorship_tag": "ABX9TyN1gYLJTavFazJxbrErqM0z",
      "include_colab_link": true
    },
    "kernelspec": {
      "name": "python3",
      "display_name": "Python 3"
    },
    "language_info": {
      "name": "python"
    }
  },
  "cells": [
    {
      "cell_type": "markdown",
      "metadata": {
        "id": "view-in-github",
        "colab_type": "text"
      },
      "source": [
        "<a href=\"https://colab.research.google.com/github/Ittichoce/Python-for-colab/blob/my-branch-1/4_Begining_Variables_in_Python.ipynb\" target=\"_parent\"><img src=\"https://colab.research.google.com/assets/colab-badge.svg\" alt=\"Open In Colab\"/></a>"
      ]
    },
    {
      "cell_type": "markdown",
      "source": [
        "# Variables\n",
        "We **assign** values to variables and, later on, **refer** to the variable names to use the values.\n",
        "The syntax used is: \n",
        "\tvariable_name = value "
      ],
      "metadata": {
        "id": "KPYOlCvIOhTj"
      }
    },
    {
      "cell_type": "code",
      "execution_count": null,
      "metadata": {
        "colab": {
          "base_uri": "https://localhost:8080/"
        },
        "id": "GQdKStPqObu7",
        "outputId": "247c46ca-d878-48bd-8f5e-479849e2cabf"
      },
      "outputs": [
        {
          "output_type": "stream",
          "name": "stdout",
          "text": [
            "3\n",
            "5.5\n"
          ]
        }
      ],
      "source": [
        "a = 3 # Assign the value 3 to the variable named a\n",
        "b = 5.5 # assign the value 5.5 to another variable named b\n",
        "print(a)\n",
        "print(b) "
      ]
    },
    {
      "cell_type": "code",
      "source": [
        "firstname = \"Ittichoce\"\n",
        "lastname = \"Songmeethong\"\n",
        "print(firstname)\n",
        "print(lastname)"
      ],
      "metadata": {
        "colab": {
          "base_uri": "https://localhost:8080/"
        },
        "id": "jlDx8dkQPCbS",
        "outputId": "c5902405-e96d-439e-ce40-801d509341c6"
      },
      "execution_count": null,
      "outputs": [
        {
          "output_type": "stream",
          "name": "stdout",
          "text": [
            "Ittichoce\n",
            "Songmeethong\n"
          ]
        }
      ]
    },
    {
      "cell_type": "code",
      "source": [
        "p = True\n",
        "q = False \n",
        "print(p)\n",
        "print(q)"
      ],
      "metadata": {
        "colab": {
          "base_uri": "https://localhost:8080/"
        },
        "id": "ZIMqmhO8PJ-v",
        "outputId": "2f55031f-4bcd-4ae3-cc13-65f29d3c929b"
      },
      "execution_count": null,
      "outputs": [
        {
          "output_type": "stream",
          "name": "stdout",
          "text": [
            "True\n",
            "False\n"
          ]
        }
      ]
    },
    {
      "cell_type": "markdown",
      "source": [
        "Mutiple variables can be assigned with a *similar calue* in a *single line*."
      ],
      "metadata": {
        "id": "AHFUVszIPNd3"
      }
    },
    {
      "cell_type": "code",
      "source": [
        "a = b = \"Hello\" \n",
        "print(a)\n",
        "print(b)"
      ],
      "metadata": {
        "colab": {
          "base_uri": "https://localhost:8080/"
        },
        "id": "qMwotDiLPN_v",
        "outputId": "461e31b4-4f6a-447e-b008-19be98a4cc28"
      },
      "execution_count": null,
      "outputs": [
        {
          "output_type": "stream",
          "name": "stdout",
          "text": [
            "Hello\n",
            "Hello\n"
          ]
        }
      ]
    },
    {
      "cell_type": "markdown",
      "source": [
        "Many values can also be assigned to mutiple variables in a single line. "
      ],
      "metadata": {
        "id": "xi89J1JZPRfg"
      }
    },
    {
      "cell_type": "code",
      "source": [
        "a, b, c = \"Hello\", 45, True\n",
        "print(a)\n",
        "print(b)\n",
        "print(c)\n"
      ],
      "metadata": {
        "colab": {
          "base_uri": "https://localhost:8080/"
        },
        "id": "ixRqn9hoPUOP",
        "outputId": "cddee1b4-5833-4e24-9cf8-03e12c0add2a"
      },
      "execution_count": null,
      "outputs": [
        {
          "output_type": "stream",
          "name": "stdout",
          "text": [
            "Hello\n",
            "45\n",
            "True\n"
          ]
        }
      ]
    },
    {
      "cell_type": "markdown",
      "source": [
        "A variable can be *re-assigned* with a new value. "
      ],
      "metadata": {
        "id": "ChvwOvbsPYoA"
      }
    },
    {
      "cell_type": "code",
      "source": [
        "a = 25\n",
        "print(a) \n",
        "a = 30 \n",
        "print(a)\n",
        "a = \"Hello\"\n",
        "print(a)"
      ],
      "metadata": {
        "colab": {
          "base_uri": "https://localhost:8080/"
        },
        "id": "lyjbe4dRPZA3",
        "outputId": "72c017fc-8674-44e6-b3aa-2497f6102756"
      },
      "execution_count": null,
      "outputs": [
        {
          "output_type": "stream",
          "name": "stdout",
          "text": [
            "25\n",
            "30\n",
            "Hello\n"
          ]
        }
      ]
    },
    {
      "cell_type": "markdown",
      "source": [
        "We can assign *the value of a variable* to *another variable.*"
      ],
      "metadata": {
        "id": "YxVpav8lNp4Q"
      }
    },
    {
      "cell_type": "code",
      "source": [
        "a = 50\n",
        "print(a)\n",
        "b = 100\n",
        "a = b \n",
        "print(a)"
      ],
      "metadata": {
        "colab": {
          "base_uri": "https://localhost:8080/"
        },
        "id": "HV1boRgYN9uD",
        "outputId": "71e11e9f-68bf-4bcc-e5da-de083cd572eb"
      },
      "execution_count": null,
      "outputs": [
        {
          "output_type": "stream",
          "name": "stdout",
          "text": [
            "50\n",
            "100\n"
          ]
        }
      ]
    },
    {
      "cell_type": "markdown",
      "source": [
        "The *data type of a variable* is the *data type of the (latest) value* assigned to that variable."
      ],
      "metadata": {
        "id": "PfSQeHKuPFo0"
      }
    },
    {
      "cell_type": "code",
      "source": [
        "a = 50 \n",
        "print(a)\n",
        "print(type(a))\n",
        "b = 50.0 \n",
        "a = b \n",
        "print(a)\n",
        "print(type(a))\n"
      ],
      "metadata": {
        "colab": {
          "base_uri": "https://localhost:8080/"
        },
        "id": "9v4DAUoaPGL8",
        "outputId": "b3364270-7b1b-4c98-9955-6cc9130fb279"
      },
      "execution_count": null,
      "outputs": [
        {
          "output_type": "stream",
          "name": "stdout",
          "text": [
            "50\n",
            "<class 'int'>\n",
            "50.0\n",
            "<class 'float'>\n"
          ]
        }
      ]
    },
    {
      "cell_type": "markdown",
      "source": [
        "Here are examples of *valid variable names.*"
      ],
      "metadata": {
        "id": "1a-puhHyPJcr"
      }
    },
    {
      "cell_type": "code",
      "source": [
        "average = 20.0 \n",
        "p5 = 50 \n",
        "this_is_ok = \"OK\"\n",
        "thisIsOk = \"Yeah\"\n",
        "_height = 80 \n",
        "ความสูง = 80 "
      ],
      "metadata": {
        "id": "MCQ8I_KpRMIu"
      },
      "execution_count": null,
      "outputs": []
    },
    {
      "cell_type": "markdown",
      "source": [
        "However, these are *NOT valid.* "
      ],
      "metadata": {
        "id": "Q3W0ZkIgROnM"
      }
    },
    {
      "cell_type": "code",
      "source": [
        "#average*   = 20.0  # CANNOT contain symbol \n",
        "#5p         = 50    # CANNOT start with a digit\n",
        "#this-is-ok = \"OK\"  # CANNOT contain symbol \n",
        "#for        = \"Friend\""
      ],
      "metadata": {
        "id": "wNZalzWyRR8z"
      },
      "execution_count": null,
      "outputs": []
    }
  ]
}