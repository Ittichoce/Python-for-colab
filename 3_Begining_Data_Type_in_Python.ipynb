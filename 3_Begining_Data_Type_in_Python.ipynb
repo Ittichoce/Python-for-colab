{
  "nbformat": 4,
  "nbformat_minor": 0,
  "metadata": {
    "colab": {
      "name": "3. Begining Data Type in Python.ipynb",
      "provenance": [],
      "collapsed_sections": [],
      "authorship_tag": "ABX9TyNnxz9nUcisBj3eqIacstcf",
      "include_colab_link": true
    },
    "kernelspec": {
      "name": "python3",
      "display_name": "Python 3"
    },
    "language_info": {
      "name": "python"
    }
  },
  "cells": [
    {
      "cell_type": "markdown",
      "metadata": {
        "id": "view-in-github",
        "colab_type": "text"
      },
      "source": [
        "<a href=\"https://colab.research.google.com/github/Ittichoce/Python-for-colab/blob/main/3_Begining_Data_Type_in_Python.ipynb\" target=\"_parent\"><img src=\"https://colab.research.google.com/assets/colab-badge.svg\" alt=\"Open In Colab\"/></a>"
      ]
    },
    {
      "cell_type": "markdown",
      "source": [
        "# Begining Data Type in Python\n",
        "Let's get familliar with a first set of *data* type in Python"
      ],
      "metadata": {
        "id": "LyhRe4kGJtOx"
      }
    },
    {
      "cell_type": "markdown",
      "source": [
        "## Numbers\n",
        "- `int`     for interger \n",
        "- `float`   for real numbers. They can represent decimal points.\n",
        "- `complex` for complex numbers (with real and imaginary parts, very sciencific!)"
      ],
      "metadata": {
        "id": "hgIcRuWjKHoH"
      }
    },
    {
      "cell_type": "markdown",
      "source": [
        "To represent `int` value in the program, type *numbers* without decimal  points. "
      ],
      "metadata": {
        "id": "LQxe5gvTKL_y"
      }
    },
    {
      "cell_type": "code",
      "source": [
        "print(32)\n",
        "print(64)\n",
        "print(100000)"
      ],
      "metadata": {
        "colab": {
          "base_uri": "https://localhost:8080/"
        },
        "id": "KBsSBuNmKMig",
        "outputId": "b9719ebd-5406-4394-bc92-ed1314cde652"
      },
      "execution_count": null,
      "outputs": [
        {
          "output_type": "stream",
          "name": "stdout",
          "text": [
            "32\n",
            "64\n",
            "100000\n"
          ]
        }
      ]
    },
    {
      "cell_type": "markdown",
      "source": [
        "`type()` can be used for checking the data types of any values."
      ],
      "metadata": {
        "id": "3Zg54mwkKmkv"
      }
    },
    {
      "cell_type": "code",
      "source": [
        "print(type(32))\n",
        "print(type(64))\n",
        "print(type(100000))"
      ],
      "metadata": {
        "id": "-2q-lce8KrRw"
      },
      "execution_count": null,
      "outputs": []
    },
    {
      "cell_type": "markdown",
      "source": [
        "To represent `float` value in the program, type *number* with deciaml points."
      ],
      "metadata": {
        "id": "6pWZu267KnOn"
      }
    },
    {
      "cell_type": "code",
      "source": [
        "print(47.5)\n",
        "print(1.0)\n",
        "print(type(47.5))\n",
        "print(type(1.0))"
      ],
      "metadata": {
        "colab": {
          "base_uri": "https://localhost:8080/"
        },
        "id": "TH3LqGbTKvb4",
        "outputId": "b5d4cc77-19bb-4ad0-e8a9-927e3e5a4a49"
      },
      "execution_count": null,
      "outputs": [
        {
          "output_type": "stream",
          "name": "stdout",
          "text": [
            "47.5\n",
            "1.0\n",
            "<class 'float'>\n",
            "<class 'float'>\n"
          ]
        }
      ]
    },
    {
      "cell_type": "markdown",
      "source": [
        "To represent `complex` values in the program, use the format `a+bi`"
      ],
      "metadata": {
        "id": "mfDtyNmEKyUZ"
      }
    },
    {
      "cell_type": "code",
      "source": [
        "print(2+3j)\n",
        "print(1.5-8j)\n",
        "print(type(2+3j))\n",
        "print(type(1.5-8j))"
      ],
      "metadata": {
        "colab": {
          "base_uri": "https://localhost:8080/"
        },
        "id": "J2J4kWYJK0u4",
        "outputId": "107931a7-0b0b-4128-f25c-31da36877e3a"
      },
      "execution_count": null,
      "outputs": [
        {
          "output_type": "stream",
          "name": "stdout",
          "text": [
            "(2+3j)\n",
            "(1.5-8j)\n",
            "<class 'complex'>\n",
            "<class 'complex'>\n"
          ]
        }
      ]
    },
    {
      "cell_type": "markdown",
      "source": [
        "Be warned that in just `j` is NOT a complex number.\n",
        "\n",
        "---"
      ],
      "metadata": {
        "id": "fNoyJ-KpLs5Z"
      }
    },
    {
      "cell_type": "markdown",
      "source": [
        "## Strings\n",
        "\n",
        "A string object is a asequence of characters. In python, the data type is `str`.\n",
        "\n",
        "To represent `str` in the program, *enclose text with quotes*.\n",
        "\n",
        "Quotes cluod be:\n",
        "- Single quotes \n",
        "- Double quotes\n",
        "- Triple quotes"
      ],
      "metadata": {
        "id": "ouHpFKD4LvMo"
      }
    },
    {
      "cell_type": "code",
      "source": [
        "print('Hello world')\n",
        "print(\"Hello world\")\n",
        "print('''Hello world''')\n",
        "print(type('Hello world'))\n",
        "print(type(\"Hello world\"))\n",
        "print(type('''Hello world'''))"
      ],
      "metadata": {
        "colab": {
          "base_uri": "https://localhost:8080/"
        },
        "id": "cdpdJNAmLzvy",
        "outputId": "5a0c214e-c16c-49c0-e807-c6c75dc68835"
      },
      "execution_count": null,
      "outputs": [
        {
          "output_type": "stream",
          "name": "stdout",
          "text": [
            "Hello world\n",
            "Hello world\n",
            "Hello world\n",
            "<class 'str'>\n",
            "<class 'str'>\n",
            "<class 'str'>\n"
          ]
        }
      ]
    },
    {
      "cell_type": "markdown",
      "source": [
        "Since quotes are used for signaling the starting/ending of a String object, \n",
        "\n",
        "How can we write a sentence like \"Hello!\" or *It's ok to say \"Goodbye\"*."
      ],
      "metadata": {
        "id": "IGglffuHL9Af"
      }
    },
    {
      "cell_type": "code",
      "source": [
        "print('He said \"Hello\"')\n",
        "print('''It's ok to say \"GoodBye\".''')"
      ],
      "metadata": {
        "colab": {
          "base_uri": "https://localhost:8080/"
        },
        "id": "44wF80cUL8sP",
        "outputId": "15b8dc02-e88e-4744-8a45-a9beeb201682"
      },
      "execution_count": null,
      "outputs": [
        {
          "output_type": "stream",
          "name": "stdout",
          "text": [
            "He said \"Hello\"\n",
            "It's ok to say \"GoodBye\".\n"
          ]
        }
      ]
    },
    {
      "cell_type": "markdown",
      "source": [
        "If switching auotes is NOT a choice. we can escape the quotes character with a backslash. "
      ],
      "metadata": {
        "id": "41E_MGH7MT2a"
      }
    },
    {
      "cell_type": "code",
      "source": [
        "print(\"He said \\\"Hello!\\\"\")\n",
        "print(\"It's ok to say \\\" Goodbye\\\" . \")"
      ],
      "metadata": {
        "colab": {
          "base_uri": "https://localhost:8080/"
        },
        "id": "euPxPIdYMbqj",
        "outputId": "3ba056f6-2fb5-4a72-e194-1ad9562b19fa"
      },
      "execution_count": null,
      "outputs": [
        {
          "output_type": "stream",
          "name": "stdout",
          "text": [
            "He said \"Hello!\"\n",
            "It's ok to say \" Goodbye\" . \n"
          ]
        }
      ]
    },
    {
      "cell_type": "markdown",
      "source": [
        "What about when we need a *backslash* inside a String? \n",
        "\n",
        "We can also *escape* backslashes. "
      ],
      "metadata": {
        "id": "Tv9nvTGgMfqf"
      }
    },
    {
      "cell_type": "code",
      "source": [
        "print(\"Escape characters start with \\\\\") "
      ],
      "metadata": {
        "colab": {
          "base_uri": "https://localhost:8080/"
        },
        "id": "a2jiVWopMiyf",
        "outputId": "9d41de8a-d529-4b81-fd24-c66b5b233bdd"
      },
      "execution_count": null,
      "outputs": [
        {
          "output_type": "stream",
          "name": "stdout",
          "text": [
            "Escape characters start with \\\n"
          ]
        }
      ]
    },
    {
      "cell_type": "markdown",
      "source": [
        "It is good to know in advanced that each escape character (E.g. \", ',\\) is counted as 1 character even though we type two characters. \n",
        "\n",
        "There are more *escape character* than that we have mentioned. Another escape character you should be familiar with is *the newline character* (\\n). "
      ],
      "metadata": {
        "id": "Mqg4ZbU2MmiH"
      }
    },
    {
      "cell_type": "code",
      "source": [
        "print(\"The first line.\\nThe second line.\\nThe third line.\")"
      ],
      "metadata": {
        "colab": {
          "base_uri": "https://localhost:8080/"
        },
        "id": "F9fQnuXgMwwl",
        "outputId": "814ec7d1-c18a-456b-b2a7-ebf239a2b271"
      },
      "execution_count": null,
      "outputs": [
        {
          "output_type": "stream",
          "name": "stdout",
          "text": [
            "The first line.\n",
            "The second line.\n",
            "The third line.\n"
          ]
        }
      ]
    },
    {
      "cell_type": "markdown",
      "source": [
        "When multiple String objects are typed in a sequence, Python *concatenate* them automatically."
      ],
      "metadata": {
        "id": "NUTVC406MtEp"
      }
    },
    {
      "cell_type": "code",
      "source": [
        "print(\"Store\"  \"Keep\"  \"er\")\n",
        "print(\"Strore\"   \"Keep\"  \"er\")\n",
        "print(\"Store\"\"keep\"\"er\")\n",
        "print('Store' \"keep\" '''er''')"
      ],
      "metadata": {
        "id": "S3y0u7DaM1Ho"
      },
      "execution_count": null,
      "outputs": []
    },
    {
      "cell_type": "markdown",
      "source": [
        "---\n",
        "\n",
        "## Boolean \n",
        "\n",
        "We type keyword `True` and `false` to represent the (truth) value *true* and *false*, repectively."
      ],
      "metadata": {
        "id": "StRjLCbXM4DX"
      }
    },
    {
      "cell_type": "code",
      "source": [
        "print(True)\n",
        "print(type(True))\n",
        "print(False)\n",
        "print(type(False))"
      ],
      "metadata": {
        "colab": {
          "base_uri": "https://localhost:8080/"
        },
        "id": "PfuDhiFXM-LQ",
        "outputId": "ef61b7c9-f5f8-4d40-b8b2-afe83d0193c8"
      },
      "execution_count": null,
      "outputs": [
        {
          "output_type": "stream",
          "name": "stdout",
          "text": [
            "True\n",
            "<class 'bool'>\n",
            "False\n",
            "<class 'bool'>\n"
          ]
        }
      ]
    }
  ]
}