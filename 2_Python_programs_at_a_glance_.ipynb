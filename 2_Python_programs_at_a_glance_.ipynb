{
  "nbformat": 4,
  "nbformat_minor": 0,
  "metadata": {
    "colab": {
      "name": "2.Python programs at a glance .ipynb",
      "provenance": [],
      "collapsed_sections": [],
      "authorship_tag": "ABX9TyNXumjltIxPiuAOCdbQ3ZaR",
      "include_colab_link": true
    },
    "kernelspec": {
      "name": "python3",
      "display_name": "Python 3"
    },
    "language_info": {
      "name": "python"
    }
  },
  "cells": [
    {
      "cell_type": "markdown",
      "metadata": {
        "id": "view-in-github",
        "colab_type": "text"
      },
      "source": [
        "<a href=\"https://colab.research.google.com/github/Ittichoce/Python-for-colab/blob/my-branch-1/2_Python_programs_at_a_glance_.ipynb\" target=\"_parent\"><img src=\"https://colab.research.google.com/assets/colab-badge.svg\" alt=\"Open In Colab\"/></a>"
      ]
    },
    {
      "cell_type": "markdown",
      "source": [
        "# Python programs at a glance \n",
        "\n",
        "let's look at some Python prgrams without worrying about *How* and *Why* yet."
      ],
      "metadata": {
        "id": "vKLAMp4PAPFz"
      }
    },
    {
      "cell_type": "markdown",
      "source": [
        "## Show message on monitor."
      ],
      "metadata": {
        "id": "nHcOcKSkQQ0_"
      }
    },
    {
      "cell_type": "code",
      "execution_count": null,
      "metadata": {
        "colab": {
          "base_uri": "https://localhost:8080/"
        },
        "id": "JQYOKSIpAMpR",
        "outputId": "c6150945-2f42-4106-9374-9c4f1a3ece0a"
      },
      "outputs": [
        {
          "output_type": "stream",
          "name": "stdout",
          "text": [
            "Hello world\n"
          ]
        }
      ],
      "source": [
        "print(\"Hello world\")"
      ]
    },
    {
      "cell_type": "code",
      "source": [
        "print(\"Hello Mars\") \n",
        "print(\"Hello Venus\") \n",
        "print(\"Hello Saturn\") "
      ],
      "metadata": {
        "colab": {
          "base_uri": "https://localhost:8080/"
        },
        "id": "k-5ZOrf9AlUB",
        "outputId": "5b7f4d55-4b66-48de-b880-3ea0f1ce3695"
      },
      "execution_count": null,
      "outputs": [
        {
          "output_type": "stream",
          "name": "stdout",
          "text": [
            "Hello Mars\n",
            "Hello Venus\n",
            "Hello Saturn\n"
          ]
        }
      ]
    },
    {
      "cell_type": "markdown",
      "source": [
        "From the output, we can see that each was excecuted *in order from top to bottom.*"
      ],
      "metadata": {
        "id": "IndMiu3sAiok"
      }
    },
    {
      "cell_type": "markdown",
      "source": [
        "Python is **Case sensitive.** `print` is not the same as `Print` \n",
        "\n",
        "---"
      ],
      "metadata": {
        "id": "7A9LPRhKAqpS"
      }
    },
    {
      "cell_type": "markdown",
      "source": [
        "The code above produces **a bug.** When there is a bug (or there are bugs!!), programmers need to *read* the error messages, \n",
        "\n",
        "try to *understand* them, and **debug** the code.\n",
        "\n",
        "---"
      ],
      "metadata": {
        "id": "WbfAu4J9AuwJ"
      }
    },
    {
      "cell_type": "markdown",
      "source": [
        "## Basic Math operator"
      ],
      "metadata": {
        "id": "0NuouZLBQE26"
      }
    },
    {
      "cell_type": "markdown",
      "source": [
        "\n",
        "Next, let's take a look basic Arithmetic operations. \n",
        "\n",
        "The symbols `+`, `-`, `*`, `/` are called *operators* which perform *additional*, *substraction*, *mutiplication* and *division* respectively."
      ],
      "metadata": {
        "id": "oifdqKLYAxyh"
      }
    },
    {
      "cell_type": "code",
      "source": [
        "print(\"10 + 5 = \",10 + 5)\n",
        "print(\"10 - 5 = \",10 - 5)\n",
        "print(\"10 * 5 = \",10 * 5)\n",
        "print(\"10 / 5 = \", 10 / 5)"
      ],
      "metadata": {
        "id": "x7yXTWqeA1XA"
      },
      "execution_count": null,
      "outputs": []
    },
    {
      "cell_type": "markdown",
      "source": [
        "---\n",
        "\n",
        "Any text coming after `#` upto theend of theline is considered a **comment**. It will NOT be excecuted\n",
        "\n",
        "Use comments to explain programs. \n",
        "\n",
        "---"
      ],
      "metadata": {
        "id": "4a6omYVCA7Go"
      }
    },
    {
      "cell_type": "markdown",
      "source": [
        "## Indentation"
      ],
      "metadata": {
        "id": "KYJxQcEqQhbv"
      }
    },
    {
      "cell_type": "markdown",
      "source": [
        "**Variables** as well as *input()* will be discussed later in this course. \n",
        "\n",
        "In many programing languages, **Indentation** with spacebar or tab at the begining of the line does not matter but NOT in python.\n",
        "\n",
        "In python, **Indentation** of each line directly means somethings about the *structure* of the program."
      ],
      "metadata": {
        "id": "BBjHpotOBTk5"
      }
    },
    {
      "cell_type": "code",
      "source": [
        "#Program the user to input his/her name and store in the variable name\n",
        "name = input(\"Enter your name: \")\n",
        "#Concatenate \"Hello' with name and print it out. \n",
        "print(\"Hello \"+name)"
      ],
      "metadata": {
        "colab": {
          "base_uri": "https://localhost:8080/"
        },
        "id": "k_x0u0YzBMno",
        "outputId": "12984258-8382-4a23-d3d9-35fd4813b873"
      },
      "execution_count": null,
      "outputs": [
        {
          "output_type": "stream",
          "name": "stdout",
          "text": [
            "Enter your name: Ittichoce\n",
            "Hello Ittichoce\n"
          ]
        }
      ]
    },
    {
      "cell_type": "code",
      "source": [
        "x = input(\"Type go: \")\n",
        "if x == \"go\" :\n",
        "\tprint(\"Ready?\")\n",
        "\tprint(\"Let's go\")\n",
        "print(\"Have a good day\") "
      ],
      "metadata": {
        "colab": {
          "base_uri": "https://localhost:8080/"
        },
        "id": "bzRpqpngBaMC",
        "outputId": "9e056425-d31a-4de7-df66-423ba7a07357"
      },
      "execution_count": null,
      "outputs": [
        {
          "output_type": "stream",
          "name": "stdout",
          "text": [
            "Type go: go\n",
            "Ready?\n",
            "Let's go\n",
            "Have a good day\n"
          ]
        }
      ]
    },
    {
      "cell_type": "markdown",
      "source": [
        "Again, program with **decisions** (E.g. `if` ) will be discussed later in this course. \n",
        "> Do not worry :)"
      ],
      "metadata": {
        "id": "xLV4Y1cTBnsb"
      }
    },
    {
      "cell_type": "markdown",
      "source": [
        "Well, we have learned some basics and a few technical terms.  \n",
        "\n",
        "This demo should also gave you some *feeling* when writing Python programs in Google Colab."
      ],
      "metadata": {
        "id": "YeIIXu5JBqNA"
      }
    }
  ]
}